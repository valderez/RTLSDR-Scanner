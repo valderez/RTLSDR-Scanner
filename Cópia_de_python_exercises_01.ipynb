{
  "nbformat": 4,
  "nbformat_minor": 0,
  "metadata": {
    "colab": {
      "name": "Cópia de python_exercises_01.ipynb",
      "provenance": [],
      "include_colab_link": true
    },
    "kernelspec": {
      "name": "python3",
      "display_name": "Python 3"
    }
  },
  "cells": [
    {
      "cell_type": "markdown",
      "metadata": {
        "id": "view-in-github",
        "colab_type": "text"
      },
      "source": [
        "<a href=\"https://colab.research.google.com/github/valderez/RTLSDR-Scanner/blob/master/C%C3%B3pia_de_python_exercises_01.ipynb\" target=\"_parent\"><img src=\"https://colab.research.google.com/assets/colab-badge.svg\" alt=\"Open In Colab\"/></a>"
      ]
    },
    {
      "cell_type": "markdown",
      "metadata": {
        "id": "8YqaSZgXYJ5g"
      },
      "source": [
        "![](https://i.imgur.com/YX6UATs.png)\n"
      ]
    },
    {
      "cell_type": "markdown",
      "metadata": {
        "id": "hhUVzDipaGb9"
      },
      "source": [
        "### **Exercícios de Python - 1** \n",
        "\n",
        "\n",
        "\n"
      ]
    },
    {
      "cell_type": "markdown",
      "metadata": {
        "id": "qMGp-h8OaGqr"
      },
      "source": [
        "1 - Faça um programa, com uma função que necessite de três argumentos, e que forneça a soma desses três argumentos."
      ]
    },
    {
      "cell_type": "code",
      "metadata": {
        "id": "kTg-D89NdCld"
      },
      "source": [
        ""
      ],
      "execution_count": null,
      "outputs": []
    },
    {
      "cell_type": "markdown",
      "metadata": {
        "id": "KdLXZftIaG60"
      },
      "source": [
        "2 - Faça um Programa que peça a temperatura em graus Celsius, transforme e mostre em graus Fahrenheit. \\\n",
        "*Dica: procure a fórmula para essa conversão na internet*"
      ]
    },
    {
      "cell_type": "code",
      "metadata": {
        "id": "MNINJ32eU45M"
      },
      "source": [
        ""
      ],
      "execution_count": null,
      "outputs": []
    },
    {
      "cell_type": "markdown",
      "metadata": {
        "id": "4OETBVgmaGzX"
      },
      "source": [
        "3 - Faça um Programa que peça um número inteiro e determine se ele é par ou impar. Dica: utilize o operador módulo (resto da divisão)."
      ]
    },
    {
      "cell_type": "code",
      "metadata": {
        "id": "WbzCimFZVSr1"
      },
      "source": [
        ""
      ],
      "execution_count": null,
      "outputs": []
    },
    {
      "cell_type": "markdown",
      "metadata": {
        "id": "7zPJ8sgPaGw0"
      },
      "source": [
        "4 - Faça um programa que peça o tamanho de um arquivo para download (em MB) e a velocidade de um link de Internet (em Mbps), calcule e informe o tempo aproximado de download do arquivo usando este link (em minutos)."
      ]
    },
    {
      "cell_type": "code",
      "metadata": {
        "id": "l4qtSxU7XquB"
      },
      "source": [
        ""
      ],
      "execution_count": null,
      "outputs": []
    },
    {
      "cell_type": "markdown",
      "metadata": {
        "id": "0tkhm6EUaG1u"
      },
      "source": [
        "5 - Faça um programa para a leitura de duas notas parciais de um aluno. O programa deve calcular a média alcançada por aluno e apresentar:\n",
        "- A mensagem \"Aprovado\", se a média alcançada for maior ou igual a sete;\n",
        "- A mensagem \"Reprovado\", se a média for menor do que sete;\n",
        "- A mensagem \"Aprovado com Distinção\", se a média for igual a dez."
      ]
    },
    {
      "cell_type": "code",
      "metadata": {
        "id": "990mQ6UhdwKl"
      },
      "source": [
        ""
      ],
      "execution_count": null,
      "outputs": []
    },
    {
      "cell_type": "markdown",
      "metadata": {
        "id": "Lm1tOKThnU42"
      },
      "source": [
        "Exercícios adaptados de Python Brasil"
      ]
    }
  ]
}